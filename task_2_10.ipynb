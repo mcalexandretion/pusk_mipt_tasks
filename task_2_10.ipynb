{
 "cells": [
  {
   "cell_type": "code",
   "execution_count": 1,
   "id": "5be3e709-58c8-4231-9866-c4f892163009",
   "metadata": {},
   "outputs": [],
   "source": [
    "import pandas as pd\n",
    "\n",
    "df = pd.read_csv('train.csv')"
   ]
  },
  {
   "cell_type": "code",
   "execution_count": 2,
   "id": "ec041f8b-bdd4-4070-8ba6-87b1649de22d",
   "metadata": {},
   "outputs": [
    {
     "name": "stdout",
     "output_type": "stream",
     "text": [
      "Количество столбцов: 12\n",
      "Названия столбцов: ['PassengerId', 'Survived', 'Pclass', 'Name', 'Sex', 'Age', 'SibSp', 'Parch', 'Ticket', 'Fare', 'Cabin', 'Embarked']\n",
      "Типы данных столбцов:\n",
      "PassengerId      int64\n",
      "Survived         int64\n",
      "Pclass           int64\n",
      "Name            object\n",
      "Sex             object\n",
      "Age            float64\n",
      "SibSp            int64\n",
      "Parch            int64\n",
      "Ticket          object\n",
      "Fare           float64\n",
      "Cabin           object\n",
      "Embarked        object\n",
      "dtype: object\n",
      "Использование памяти:\n",
      "Index            132\n",
      "PassengerId     7128\n",
      "Survived        7128\n",
      "Pclass          7128\n",
      "Name           67685\n",
      "Sex            47851\n",
      "Age             7128\n",
      "SibSp           7128\n",
      "Parch           7128\n",
      "Ticket         49674\n",
      "Fare            7128\n",
      "Cabin          32712\n",
      "Embarked       44514\n",
      "dtype: int64\n",
      "Индекс диапазона: RangeIndex(start=0, stop=891, step=1)\n",
      "Количество ненулевых значений в каждом столбце:\n",
      "PassengerId    891\n",
      "Survived       891\n",
      "Pclass         891\n",
      "Name           891\n",
      "Sex            891\n",
      "Age            714\n",
      "SibSp          891\n",
      "Parch          891\n",
      "Ticket         891\n",
      "Fare           891\n",
      "Cabin          204\n",
      "Embarked       889\n",
      "dtype: int64\n"
     ]
    }
   ],
   "source": [
    "#1\n",
    "df_shape1 = df.shape[1]\n",
    "df_columns = df.columns.tolist()\n",
    "df_dtypes = df.dtypes\n",
    "df_memory = df.memory_usage(deep=True)\n",
    "df_index = df.index\n",
    "non_null_counts = df.count()\n",
    "\n",
    "print(f\"Количество столбцов: {df_shape1}\")\n",
    "print(f\"Названия столбцов: {df_columns}\")\n",
    "print(f\"Типы данных столбцов:\\n{df_dtypes}\")\n",
    "print(f\"Использование памяти:\\n{df_memory}\")\n",
    "print(f\"Индекс диапазона: {df_index}\")\n",
    "print(f\"Количество ненулевых значений в каждом столбце:\\n{non_null_counts}\")"
   ]
  },
  {
   "cell_type": "code",
   "execution_count": 3,
   "id": "bcdfdbc4-be49-439f-9e66-eb9f15be8892",
   "metadata": {},
   "outputs": [
    {
     "name": "stdout",
     "output_type": "stream",
     "text": [
      "Пропущенные значения:\n",
      "PassengerId      0\n",
      "Survived         0\n",
      "Pclass           0\n",
      "Name             0\n",
      "Sex              0\n",
      "Age            177\n",
      "SibSp            0\n",
      "Parch            0\n",
      "Ticket           0\n",
      "Fare             0\n",
      "Cabin          687\n",
      "Embarked         2\n",
      "dtype: int64\n",
      "Дубликаты: 0\n"
     ]
    }
   ],
   "source": [
    "df_null = df.isnull().sum()\n",
    "print(f\"Пропущенные значения:\\n{df_null}\")\n",
    "df_duplicated = df.duplicated().sum()\n",
    "print(f\"Дубликаты: {df_duplicated}\")"
   ]
  },
  {
   "cell_type": "code",
   "execution_count": 4,
   "id": "0c645201-76c5-420f-ad4a-332bc4fbbc85",
   "metadata": {},
   "outputs": [
    {
     "name": "stdout",
     "output_type": "stream",
     "text": [
      "Количество выживших: 342\n",
      "Общее количество пассажиров: 891\n",
      "Процент выживших: 38.38%\n"
     ]
    }
   ],
   "source": [
    "#3\n",
    "df_survived = df.loc[df['Survived'] == 1]['Survived'].count()\n",
    "print(f\"Количество выживших: {df_survived}\")\n",
    "\n",
    "total_passengers = df['Survived'].count()\n",
    "print(f\"Общее количество пассажиров: {total_passengers}\")\n",
    "\n",
    "survival_rate = (df_survived / total_passengers) * 100\n",
    "print(f\"Процент выживших: {survival_rate:.2f}%\")\n"
   ]
  },
  {
   "cell_type": "code",
   "execution_count": null,
   "id": "344ede5a-60b3-4951-a38c-50a48d4e5930",
   "metadata": {},
   "outputs": [],
   "source": []
  }
 ],
 "metadata": {
  "kernelspec": {
   "display_name": "Python 3 (ipykernel)",
   "language": "python",
   "name": "python3"
  },
  "language_info": {
   "codemirror_mode": {
    "name": "ipython",
    "version": 3
   },
   "file_extension": ".py",
   "mimetype": "text/x-python",
   "name": "python",
   "nbconvert_exporter": "python",
   "pygments_lexer": "ipython3",
   "version": "3.12.6"
  }
 },
 "nbformat": 4,
 "nbformat_minor": 5
}
