{
 "cells": [
  {
   "cell_type": "code",
   "execution_count": 1,
   "id": "3fca2502-2aea-4e39-811e-a495fb9dc6d5",
   "metadata": {},
   "outputs": [],
   "source": [
    "import numpy as np"
   ]
  },
  {
   "cell_type": "code",
   "execution_count": 2,
   "id": "a466fc0b-d098-48fe-9861-70a010b08f21",
   "metadata": {},
   "outputs": [
    {
     "name": "stdout",
     "output_type": "stream",
     "text": [
      "Число измерений - 2\n",
      "Размеры массива - (5, 6)\n",
      "Количество элементов - 30\n",
      "Тип данных элементов - int64\n",
      "\n"
     ]
    }
   ],
   "source": [
    "array = np.arange(1,60,2).reshape(5,6)\n",
    "array[2][4] = 123\n",
    "array_ndim = array.ndim\n",
    "array_shape = array.shape\n",
    "array_size = array.size\n",
    "array_dtype = array.dtype\n",
    "#1\n",
    "print(f\"Число измерений - {array_ndim}\\nРазмеры массива - {array_shape}\\nКоличество элементов - {array_size}\\nТип данных элементов - {array_dtype}\")\n",
    "print()"
   ]
  },
  {
   "cell_type": "code",
   "execution_count": 3,
   "id": "4c238499-8ac3-4f89-9dde-1981075407c9",
   "metadata": {},
   "outputs": [
    {
     "name": "stdout",
     "output_type": "stream",
     "text": [
      "Элемент массива - 123\n",
      "Срез массива -\n",
      "[[ 25  27  29  31 123  35]\n",
      " [ 37  39  41  43  45  47]]\n",
      "\n"
     ]
    }
   ],
   "source": [
    "array_element = array[2][4]\n",
    "array_slice = array[2:4]\n",
    "print(f\"Элемент массива - {array_element}\\nСрез массива -\\n{array_slice}\")\n",
    "print()"
   ]
  },
  {
   "cell_type": "code",
   "execution_count": 5,
   "id": "1bdb4839-59da-426c-bad6-b925527a2c6b",
   "metadata": {},
   "outputs": [
    {
     "name": "stdout",
     "output_type": "stream",
     "text": [
      "Сумма элементов - 990\n",
      "Среднее значение - 33.0\n",
      "Медиана - 30.0\n",
      "Отклонение от среднего - 24.055491403558285\n",
      "Дисперсия - 578.6666666666666\n",
      "Максимальный элемент - 123\n",
      "Минимальный элемент - 1\n",
      "\n"
     ]
    }
   ],
   "source": [
    "#3\n",
    "sum_array = np.sum(array)\n",
    "mean_array = np.mean(array)\n",
    "median_array = np.median(array)\n",
    "std_array = np.std(array)\n",
    "var_array = np.var(array)\n",
    "min_array = np.min(array)\n",
    "max_array = np.max(array)\n",
    "print(f\"Сумма элементов - {sum_array}\\nСреднее значение - {mean_array}\\nМедиана - {median_array}\\nОтклонение от среднего - {std_array}\\nДисперсия - {var_array}\\nМаксимальный элемент - {max_array}\\nМинимальный элемент - {min_array}\\n\")"
   ]
  },
  {
   "cell_type": "code",
   "execution_count": null,
   "id": "534b35fb-1de3-4c71-bdb6-720d1b850f3f",
   "metadata": {},
   "outputs": [],
   "source": []
  }
 ],
 "metadata": {
  "kernelspec": {
   "display_name": "Python 3 (ipykernel)",
   "language": "python",
   "name": "python3"
  },
  "language_info": {
   "codemirror_mode": {
    "name": "ipython",
    "version": 3
   },
   "file_extension": ".py",
   "mimetype": "text/x-python",
   "name": "python",
   "nbconvert_exporter": "python",
   "pygments_lexer": "ipython3",
   "version": "3.12.6"
  }
 },
 "nbformat": 4,
 "nbformat_minor": 5
}
