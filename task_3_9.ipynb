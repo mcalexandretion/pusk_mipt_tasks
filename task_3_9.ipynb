{
 "cells": [
  {
   "cell_type": "code",
   "execution_count": 1,
   "id": "23fba652-2a1d-4ab4-8408-757b451cfb03",
   "metadata": {},
   "outputs": [],
   "source": [
    "import pandas as pd\n",
    "df = pd.read_csv('police.csv')"
   ]
  },
  {
   "cell_type": "code",
   "execution_count": 2,
   "id": "c7c5201a-55da-40e2-a0be-5f2adb357162",
   "metadata": {},
   "outputs": [
    {
     "name": "stdout",
     "output_type": "stream",
     "text": [
      "    stop_date stop_time  county_name driver_gender  driver_age_raw  \\\n",
      "0  2005-01-02     01:55          NaN             M          1985.0   \n",
      "1  2005-01-18     08:15          NaN             M          1965.0   \n",
      "2  2005-01-23     23:15          NaN             M          1972.0   \n",
      "3  2005-02-20     17:15          NaN             M          1986.0   \n",
      "4  2005-03-14     10:00          NaN             F          1984.0   \n",
      "\n",
      "   driver_age driver_race     violation_raw violation  search_conducted  \\\n",
      "0        20.0       White          Speeding  Speeding             False   \n",
      "1        40.0       White          Speeding  Speeding             False   \n",
      "2        33.0       White          Speeding  Speeding             False   \n",
      "3        19.0       White  Call for Service     Other             False   \n",
      "4        21.0       White          Speeding  Speeding             False   \n",
      "\n",
      "  search_type   stop_outcome is_arrested stop_duration  drugs_related_stop  \n",
      "0         NaN       Citation       False      0-15 Min               False  \n",
      "1         NaN       Citation       False      0-15 Min               False  \n",
      "2         NaN       Citation       False      0-15 Min               False  \n",
      "3         NaN  Arrest Driver        True     16-30 Min               False  \n",
      "4         NaN       Citation       False      0-15 Min               False  \n"
     ]
    }
   ],
   "source": [
    "#1 просмотрите полученный объект\n",
    "print(df.head())"
   ]
  },
  {
   "cell_type": "code",
   "execution_count": 3,
   "id": "9a4efd36-a071-4e21-b63b-f1fca98ad437",
   "metadata": {},
   "outputs": [
    {
     "name": "stdout",
     "output_type": "stream",
     "text": [
      "       county_name  driver_age_raw    driver_age\n",
      "count          0.0    86414.000000  86120.000000\n",
      "mean           NaN     1970.491228     34.011333\n",
      "std            NaN      110.914909     12.738564\n",
      "min            NaN        0.000000     15.000000\n",
      "25%            NaN     1967.000000     23.000000\n",
      "50%            NaN     1980.000000     31.000000\n",
      "75%            NaN     1987.000000     43.000000\n",
      "max            NaN     8801.000000     99.000000\n"
     ]
    }
   ],
   "source": [
    "#2 вычислите описательные статистики для DataFrame;\n",
    "print(df.describe())"
   ]
  },
  {
   "cell_type": "code",
   "execution_count": 4,
   "id": "66320ea7-bf49-42e2-a0d7-0a69ce62af51",
   "metadata": {},
   "outputs": [
    {
     "name": "stdout",
     "output_type": "stream",
     "text": [
      "Количество водителей мужского пола: 62895\n",
      "Количество водителей женского пола: 23511\n"
     ]
    }
   ],
   "source": [
    "#3 поразмышляйте, как вы можете использовать срезы для анализа вашего набора данных, получите необходимый срез(ы) DataFrame;\n",
    "gender_m = df['driver_gender'].loc[df['driver_gender'] == 'M'].count()\n",
    "gender_f = df['driver_gender'].count() - gender_m\n",
    "print(f\"Количество водителей мужского пола: {gender_m}\\nКоличество водителей женского пола: {gender_f}\")\n",
    "\n"
   ]
  },
  {
   "cell_type": "code",
   "execution_count": 5,
   "id": "0c3f3734-251b-454f-9d99-6201db50eb4a",
   "metadata": {},
   "outputs": [
    {
     "name": "stdout",
     "output_type": "stream",
     "text": [
      "Арестованные водители (мужчины):      stop_date stop_time  county_name driver_gender  driver_age_raw  \\\n",
      "3   2005-02-20     17:15          NaN             M          1986.0   \n",
      "22  2005-08-08     02:09          NaN             M          1955.0   \n",
      "24  2005-08-28     01:00          NaN             M          1979.0   \n",
      "31  2005-09-28     06:20          NaN             M          1982.0   \n",
      "40  2005-10-01     00:00          NaN             M          1988.0   \n",
      "\n",
      "    driver_age driver_race                   violation_raw         violation  \\\n",
      "3         19.0       White                Call for Service             Other   \n",
      "22        50.0       Black         Other Traffic Violation  Moving violation   \n",
      "24        26.0       White         Other Traffic Violation  Moving violation   \n",
      "31        23.0       White                        Speeding          Speeding   \n",
      "40        17.0       White  Equipment/Inspection Violation         Equipment   \n",
      "\n",
      "    search_conducted                          search_type   stop_outcome  \\\n",
      "3              False                                  NaN  Arrest Driver   \n",
      "22             False                                  NaN  Arrest Driver   \n",
      "24              True  Incident to Arrest,Protective Frisk  Arrest Driver   \n",
      "31             False                                  NaN  Arrest Driver   \n",
      "40              True                       Probable Cause  Arrest Driver   \n",
      "\n",
      "   is_arrested stop_duration  drugs_related_stop  \n",
      "3         True     16-30 Min               False  \n",
      "22        True       30+ Min               False  \n",
      "24        True     16-30 Min               False  \n",
      "31        True     16-30 Min               False  \n",
      "40        True     16-30 Min                True  \n"
     ]
    }
   ],
   "source": [
    "#4 определите, какую полезную информацию, вы можете получить о данных, используя отбор и фильтрацию, сформируйте необходимый поднабор данных и проанализируйте его;\n",
    "filtered_df = df[(df['is_arrested'] == True) & (df['driver_gender']=='M')]\n",
    "print(f\"Арестованные водители (мужчины): {filtered_df.head()}\")\n",
    "\n"
   ]
  },
  {
   "cell_type": "code",
   "execution_count": 6,
   "id": "5869b34e-28d0-4271-a336-ea7442dc5be5",
   "metadata": {},
   "outputs": [
    {
     "name": "stdout",
     "output_type": "stream",
     "text": [
      "        stop_date  county_name  driver_age\n",
      "25294  2008-04-21          NaN        15.0\n",
      "10500  2006-09-30          NaN        15.0\n",
      "25307  2008-04-21          NaN        16.0\n",
      "83057  2014-12-27          NaN        17.0\n",
      "48574  2011-03-29          NaN        17.0\n"
     ]
    }
   ],
   "source": [
    "#5 выполните сортировку применительно к исследуемому набору данных;\n",
    "print(filtered_df.sort_values(\"driver_age\")[['stop_date','county_name','driver_age']].head())\n",
    "\n"
   ]
  },
  {
   "cell_type": "code",
   "execution_count": 7,
   "id": "8c85b73f-b72e-4777-954e-09c8f87809c5",
   "metadata": {},
   "outputs": [
    {
     "name": "stdout",
     "output_type": "stream",
     "text": [
      "Index(['stop_date', 'stop_time', 'name_of_county', 'driver_gender',\n",
      "       'driver_age_raw', 'driver_age', 'driver_race', 'violation_raw',\n",
      "       'violation', 'search_conducted', 'search_type', 'stop_outcome',\n",
      "       'is_arrested', 'stop_duration', 'drugs_related_stop'],\n",
      "      dtype='object')\n"
     ]
    }
   ],
   "source": [
    "#6 потренируйтесь в переименование колонок исследуемого DataFrame;\n",
    "df.rename(columns={'county_name': 'name_of_county'}, inplace=True)\n",
    "print(df.columns)\n"
   ]
  },
  {
   "cell_type": "code",
   "execution_count": 8,
   "id": "a8ac7324-eef8-466f-95e3-fcfda84ffbd8",
   "metadata": {},
   "outputs": [
    {
     "name": "stdout",
     "output_type": "stream",
     "text": [
      "Проверка на пропущенные значения: stop_date                 0\n",
      "stop_time                 0\n",
      "name_of_county        91741\n",
      "driver_gender          5335\n",
      "driver_age_raw         5327\n",
      "driver_age             5621\n",
      "driver_race            5333\n",
      "violation_raw          5333\n",
      "violation              5333\n",
      "search_conducted          0\n",
      "search_type           88545\n",
      "stop_outcome           5333\n",
      "is_arrested            5333\n",
      "stop_duration          5333\n",
      "drugs_related_stop        0\n",
      "dtype: int64\n"
     ]
    },
    {
     "data": {
      "text/plain": [
       "0        20.0\n",
       "1        40.0\n",
       "2        33.0\n",
       "3        19.0\n",
       "4        21.0\n",
       "         ... \n",
       "91736    29.0\n",
       "91737    33.0\n",
       "91738    23.0\n",
       "91739    22.0\n",
       "91740    56.0\n",
       "Name: driver_age, Length: 91741, dtype: float64"
      ]
     },
     "execution_count": 8,
     "metadata": {},
     "output_type": "execute_result"
    }
   ],
   "source": [
    "#7 проверьте DataFrame на наличие пропущенных значений, выберите один из методов работы с пропусками и примените его;\n",
    "print(f\"Проверка на пропущенные значения: {df.isnull().sum()}\")\n",
    "df['driver_age'].fillna(value=df['driver_age'].mean())\n"
   ]
  },
  {
   "cell_type": "code",
   "execution_count": 9,
   "id": "430371e8-ca4e-436d-982f-5a02ac4bd2ae",
   "metadata": {},
   "outputs": [
    {
     "name": "stdout",
     "output_type": "stream",
     "text": [
      "Проверка на дубликаты: 479\n"
     ]
    }
   ],
   "source": [
    "#8 \tпроверьте DataFrame на наличие дубликатов;\n",
    "print(f\"Проверка на дубликаты: {df.duplicated().sum()}\")"
   ]
  },
  {
   "cell_type": "code",
   "execution_count": 10,
   "id": "b0583b12-a56a-4fa1-be03-6b4b75e2789e",
   "metadata": {},
   "outputs": [
    {
     "name": "stdout",
     "output_type": "stream",
     "text": [
      "   driver_age driver_experience_category\n",
      "0        20.0                      Новый\n",
      "1        40.0                    Опытный\n",
      "2        33.0                    Опытный\n",
      "3        19.0                      Новый\n",
      "4        21.0                      Новый\n"
     ]
    }
   ],
   "source": [
    "#9 сделайте предположение, какой новый признак вы могли бы ввести для исследуемого набора данных, и реализуйте его в созданном DataFrame.\n",
    "def classify_driver_experience(age):\n",
    "    if age < 25:\n",
    "        return 'Новый'\n",
    "    elif 25 <= age <= 50:\n",
    "        return 'Опытный'\n",
    "    else:\n",
    "        return 'Пожилой'\n",
    "\n",
    "df['driver_experience_category'] = df['driver_age'].apply(classify_driver_experience)\n",
    "print(df[['driver_age', 'driver_experience_category']].head())"
   ]
  },
  {
   "cell_type": "code",
   "execution_count": null,
   "id": "4c814c5a-a670-4284-be09-2dcaaa8e3809",
   "metadata": {},
   "outputs": [],
   "source": []
  }
 ],
 "metadata": {
  "kernelspec": {
   "display_name": "Python 3 (ipykernel)",
   "language": "python",
   "name": "python3"
  },
  "language_info": {
   "codemirror_mode": {
    "name": "ipython",
    "version": 3
   },
   "file_extension": ".py",
   "mimetype": "text/x-python",
   "name": "python",
   "nbconvert_exporter": "python",
   "pygments_lexer": "ipython3",
   "version": "3.12.6"
  }
 },
 "nbformat": 4,
 "nbformat_minor": 5
}
